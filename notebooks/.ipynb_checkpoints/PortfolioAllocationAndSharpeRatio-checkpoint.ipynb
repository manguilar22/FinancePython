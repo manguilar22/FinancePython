{
 "cells": [
  {
   "cell_type": "code",
   "execution_count": 1,
   "metadata": {},
   "outputs": [],
   "source": [
    "import pandas as pd"
   ]
  },
  {
   "cell_type": "code",
   "execution_count": 6,
   "metadata": {},
   "outputs": [],
   "source": [
    "cisco = pd.read_csv(\"../stocks/Cisco.csv\")\n",
    "google = pd.read_csv(\"../stocks/Google.csv\")\n",
    "ibm = pd.read_csv(\"../stocks/IBM.csv\")"
   ]
  },
  {
   "cell_type": "code",
   "execution_count": 8,
   "metadata": {},
   "outputs": [
    {
     "data": {
      "text/plain": [
       "38.86"
      ]
     },
     "execution_count": 8,
     "metadata": {},
     "output_type": "execute_result"
    }
   ],
   "source": [
    "cisco.iloc[0][\"Adj. Close\"]"
   ]
  },
  {
   "cell_type": "code",
   "execution_count": 9,
   "metadata": {},
   "outputs": [],
   "source": [
    "for stock_df in (cisco,google,ibm):\n",
    "    stock_df['Normed Return'] = stock_df['Adj. Close']/stock_df.iloc[0]['Adj. Close']"
   ]
  },
  {
   "cell_type": "code",
   "execution_count": 11,
   "metadata": {},
   "outputs": [
    {
     "data": {
      "text/plain": [
       "0    1.000000\n",
       "1    1.007977\n",
       "2    1.003345\n",
       "3    1.017241\n",
       "4    1.027792\n",
       "Name: Normed Return, dtype: float64"
      ]
     },
     "execution_count": 11,
     "metadata": {},
     "output_type": "execute_result"
    }
   ],
   "source": [
    "cisco[\"Normed Return\"].head()"
   ]
  },
  {
   "cell_type": "code",
   "execution_count": 12,
   "metadata": {},
   "outputs": [
    {
     "data": {
      "text/plain": [
       "2018-03-21    1.024300\n",
       "2018-03-22    0.985052\n",
       "2018-03-23    0.959221\n",
       "2018-03-26    0.988930\n",
       "2018-03-27    0.943756\n",
       "Name: Normed Return, dtype: float64"
      ]
     },
     "execution_count": 12,
     "metadata": {},
     "output_type": "execute_result"
    }
   ],
   "source": [
    "google[\"Normed Return\"].tail()"
   ]
  },
  {
   "cell_type": "markdown",
   "metadata": {},
   "source": [
    "## Allocations\n",
    "\n",
    "Let's pretend we had the following allocations for our total portfolio:\n",
    "\n",
    "* 30% in Cisco\n",
    "* 20% in Google/Alphabet\n",
    "* 10% in IBM\n",
    "\n",
    "Let's have these values be reflected by multiplying our Norme Return by out Allocations"
   ]
  },
  {
   "cell_type": "code",
   "execution_count": 13,
   "metadata": {},
   "outputs": [],
   "source": [
    "for stock_df,allo in zip([cisco,google,ibm],[.3,.2,.1]):\n",
    "    stock_df['Allocation'] = stock_df['Normed Return']*allo"
   ]
  },
  {
   "cell_type": "code",
   "execution_count": 14,
   "metadata": {},
   "outputs": [
    {
     "data": {
      "text/html": [
       "<div>\n",
       "<table border=\"1\" class=\"dataframe\">\n",
       "  <thead>\n",
       "    <tr style=\"text-align: right;\">\n",
       "      <th></th>\n",
       "      <th>Adj. Close</th>\n",
       "      <th>Normed Return</th>\n",
       "      <th>Allocation</th>\n",
       "    </tr>\n",
       "  </thead>\n",
       "  <tbody>\n",
       "    <tr>\n",
       "      <th>0</th>\n",
       "      <td>38.86</td>\n",
       "      <td>1.000000</td>\n",
       "      <td>0.300000</td>\n",
       "    </tr>\n",
       "    <tr>\n",
       "      <th>1</th>\n",
       "      <td>39.17</td>\n",
       "      <td>1.007977</td>\n",
       "      <td>0.302393</td>\n",
       "    </tr>\n",
       "    <tr>\n",
       "      <th>2</th>\n",
       "      <td>38.99</td>\n",
       "      <td>1.003345</td>\n",
       "      <td>0.301004</td>\n",
       "    </tr>\n",
       "    <tr>\n",
       "      <th>3</th>\n",
       "      <td>39.53</td>\n",
       "      <td>1.017241</td>\n",
       "      <td>0.305172</td>\n",
       "    </tr>\n",
       "    <tr>\n",
       "      <th>4</th>\n",
       "      <td>39.94</td>\n",
       "      <td>1.027792</td>\n",
       "      <td>0.308338</td>\n",
       "    </tr>\n",
       "  </tbody>\n",
       "</table>\n",
       "</div>"
      ],
      "text/plain": [
       "   Adj. Close  Normed Return  Allocation\n",
       "0       38.86       1.000000    0.300000\n",
       "1       39.17       1.007977    0.302393\n",
       "2       38.99       1.003345    0.301004\n",
       "3       39.53       1.017241    0.305172\n",
       "4       39.94       1.027792    0.308338"
      ]
     },
     "execution_count": 14,
     "metadata": {},
     "output_type": "execute_result"
    }
   ],
   "source": [
    "cisco[[\"Adj. Close\",\"Normed Return\",\"Allocation\"]].head()"
   ]
  },
  {
   "cell_type": "markdown",
   "metadata": {},
   "source": [
    "## Investment\n",
    "\n",
    "Let's pretend we invested a million dollars in this portfolio"
   ]
  },
  {
   "cell_type": "code",
   "execution_count": 19,
   "metadata": {},
   "outputs": [],
   "source": [
    "for stock_df in [cisco,google,ibm]:\n",
    "    stock_df['Position Values'] = stock_df['Allocation']*1000000"
   ]
  },
  {
   "cell_type": "markdown",
   "metadata": {},
   "source": [
    "## Total Portfolio Value"
   ]
  },
  {
   "cell_type": "code",
   "execution_count": 52,
   "metadata": {},
   "outputs": [],
   "source": [
    "cisco.index = google.index \n",
    "ibm.index = google.index\n",
    "portfolio = pd.concat([\n",
    "    google[\"Position Values\"],\n",
    "    cisco[\"Position Values\"],\n",
    "    ibm[\"Position Values\"]\n",
    "],axis=1)"
   ]
  },
  {
   "cell_type": "code",
   "execution_count": 53,
   "metadata": {},
   "outputs": [
    {
     "data": {
      "text/html": [
       "<div>\n",
       "<table border=\"1\" class=\"dataframe\">\n",
       "  <thead>\n",
       "    <tr style=\"text-align: right;\">\n",
       "      <th></th>\n",
       "      <th>Position Values</th>\n",
       "      <th>Position Values</th>\n",
       "      <th>Position Values</th>\n",
       "    </tr>\n",
       "  </thead>\n",
       "  <tbody>\n",
       "    <tr>\n",
       "      <th>2018-01-02</th>\n",
       "      <td>200000.000000</td>\n",
       "      <td>300000.000000</td>\n",
       "      <td>100000.000000</td>\n",
       "    </tr>\n",
       "    <tr>\n",
       "      <th>2018-01-03</th>\n",
       "      <td>203282.629108</td>\n",
       "      <td>302393.206382</td>\n",
       "      <td>102748.784441</td>\n",
       "    </tr>\n",
       "    <tr>\n",
       "      <th>2018-01-04</th>\n",
       "      <td>204018.779343</td>\n",
       "      <td>301003.602676</td>\n",
       "      <td>104829.821718</td>\n",
       "    </tr>\n",
       "    <tr>\n",
       "      <th>2018-01-05</th>\n",
       "      <td>206991.549296</td>\n",
       "      <td>305172.413793</td>\n",
       "      <td>105341.977310</td>\n",
       "    </tr>\n",
       "    <tr>\n",
       "      <th>2018-01-08</th>\n",
       "      <td>207876.056338</td>\n",
       "      <td>308337.622234</td>\n",
       "      <td>105977.309562</td>\n",
       "    </tr>\n",
       "  </tbody>\n",
       "</table>\n",
       "</div>"
      ],
      "text/plain": [
       "            Position Values  Position Values  Position Values\n",
       "2018-01-02    200000.000000    300000.000000    100000.000000\n",
       "2018-01-03    203282.629108    302393.206382    102748.784441\n",
       "2018-01-04    204018.779343    301003.602676    104829.821718\n",
       "2018-01-05    206991.549296    305172.413793    105341.977310\n",
       "2018-01-08    207876.056338    308337.622234    105977.309562"
      ]
     },
     "execution_count": 53,
     "metadata": {},
     "output_type": "execute_result"
    }
   ],
   "source": [
    "portfolio.head()"
   ]
  },
  {
   "cell_type": "code",
   "execution_count": 54,
   "metadata": {},
   "outputs": [],
   "source": [
    "portfolio.columns = [\n",
    "    \"Google Position Values\",\n",
    "    \"Cisco Position Values\",\n",
    "    \"IBM Position Values\"]"
   ]
  },
  {
   "cell_type": "code",
   "execution_count": 55,
   "metadata": {},
   "outputs": [
    {
     "data": {
      "text/html": [
       "<div>\n",
       "<table border=\"1\" class=\"dataframe\">\n",
       "  <thead>\n",
       "    <tr style=\"text-align: right;\">\n",
       "      <th></th>\n",
       "      <th>Google Position Values</th>\n",
       "      <th>Cisco Position Values</th>\n",
       "      <th>IBM Position Values</th>\n",
       "    </tr>\n",
       "  </thead>\n",
       "  <tbody>\n",
       "    <tr>\n",
       "      <th>2018-01-02</th>\n",
       "      <td>200000.000000</td>\n",
       "      <td>300000.000000</td>\n",
       "      <td>100000.000000</td>\n",
       "    </tr>\n",
       "    <tr>\n",
       "      <th>2018-01-03</th>\n",
       "      <td>203282.629108</td>\n",
       "      <td>302393.206382</td>\n",
       "      <td>102748.784441</td>\n",
       "    </tr>\n",
       "    <tr>\n",
       "      <th>2018-01-04</th>\n",
       "      <td>204018.779343</td>\n",
       "      <td>301003.602676</td>\n",
       "      <td>104829.821718</td>\n",
       "    </tr>\n",
       "    <tr>\n",
       "      <th>2018-01-05</th>\n",
       "      <td>206991.549296</td>\n",
       "      <td>305172.413793</td>\n",
       "      <td>105341.977310</td>\n",
       "    </tr>\n",
       "    <tr>\n",
       "      <th>2018-01-08</th>\n",
       "      <td>207876.056338</td>\n",
       "      <td>308337.622234</td>\n",
       "      <td>105977.309562</td>\n",
       "    </tr>\n",
       "  </tbody>\n",
       "</table>\n",
       "</div>"
      ],
      "text/plain": [
       "            Google Position Values  Cisco Position Values  IBM Position Values\n",
       "2018-01-02           200000.000000          300000.000000        100000.000000\n",
       "2018-01-03           203282.629108          302393.206382        102748.784441\n",
       "2018-01-04           204018.779343          301003.602676        104829.821718\n",
       "2018-01-05           206991.549296          305172.413793        105341.977310\n",
       "2018-01-08           207876.056338          308337.622234        105977.309562"
      ]
     },
     "execution_count": 55,
     "metadata": {},
     "output_type": "execute_result"
    }
   ],
   "source": [
    "portfolio.head()"
   ]
  },
  {
   "cell_type": "code",
   "execution_count": 56,
   "metadata": {},
   "outputs": [],
   "source": [
    "portfolio[\"Total Position\"] = portfolio.sum(axis=1)"
   ]
  },
  {
   "cell_type": "code",
   "execution_count": 57,
   "metadata": {},
   "outputs": [
    {
     "data": {
      "text/html": [
       "<div>\n",
       "<table border=\"1\" class=\"dataframe\">\n",
       "  <thead>\n",
       "    <tr style=\"text-align: right;\">\n",
       "      <th></th>\n",
       "      <th>Google Position Values</th>\n",
       "      <th>Cisco Position Values</th>\n",
       "      <th>IBM Position Values</th>\n",
       "      <th>Total Position</th>\n",
       "    </tr>\n",
       "  </thead>\n",
       "  <tbody>\n",
       "    <tr>\n",
       "      <th>2018-01-02</th>\n",
       "      <td>200000.000000</td>\n",
       "      <td>300000.000000</td>\n",
       "      <td>100000.000000</td>\n",
       "      <td>600000.000000</td>\n",
       "    </tr>\n",
       "    <tr>\n",
       "      <th>2018-01-03</th>\n",
       "      <td>203282.629108</td>\n",
       "      <td>302393.206382</td>\n",
       "      <td>102748.784441</td>\n",
       "      <td>608424.619931</td>\n",
       "    </tr>\n",
       "    <tr>\n",
       "      <th>2018-01-04</th>\n",
       "      <td>204018.779343</td>\n",
       "      <td>301003.602676</td>\n",
       "      <td>104829.821718</td>\n",
       "      <td>609852.203737</td>\n",
       "    </tr>\n",
       "    <tr>\n",
       "      <th>2018-01-05</th>\n",
       "      <td>206991.549296</td>\n",
       "      <td>305172.413793</td>\n",
       "      <td>105341.977310</td>\n",
       "      <td>617505.940398</td>\n",
       "    </tr>\n",
       "    <tr>\n",
       "      <th>2018-01-08</th>\n",
       "      <td>207876.056338</td>\n",
       "      <td>308337.622234</td>\n",
       "      <td>105977.309562</td>\n",
       "      <td>622190.988134</td>\n",
       "    </tr>\n",
       "  </tbody>\n",
       "</table>\n",
       "</div>"
      ],
      "text/plain": [
       "            Google Position Values  Cisco Position Values  \\\n",
       "2018-01-02           200000.000000          300000.000000   \n",
       "2018-01-03           203282.629108          302393.206382   \n",
       "2018-01-04           204018.779343          301003.602676   \n",
       "2018-01-05           206991.549296          305172.413793   \n",
       "2018-01-08           207876.056338          308337.622234   \n",
       "\n",
       "            IBM Position Values  Total Position  \n",
       "2018-01-02        100000.000000   600000.000000  \n",
       "2018-01-03        102748.784441   608424.619931  \n",
       "2018-01-04        104829.821718   609852.203737  \n",
       "2018-01-05        105341.977310   617505.940398  \n",
       "2018-01-08        105977.309562   622190.988134  "
      ]
     },
     "execution_count": 57,
     "metadata": {},
     "output_type": "execute_result"
    }
   ],
   "source": [
    "portfolio.head()"
   ]
  },
  {
   "cell_type": "code",
   "execution_count": 58,
   "metadata": {},
   "outputs": [],
   "source": [
    "import matplotlib.pyplot as plt \n",
    "%matplotlib inline"
   ]
  },
  {
   "cell_type": "code",
   "execution_count": 61,
   "metadata": {},
   "outputs": [
    {
     "data": {
      "text/plain": [
       "Text(0.5,1,\"Portfolio's Value\")"
      ]
     },
     "execution_count": 61,
     "metadata": {},
     "output_type": "execute_result"
    },
    {
     "data": {
      "image/png": "[encoded data removed]",
      "text/plain": [
       "<matplotlib.figure.Figure at 0x7f668a6dcd68>"
      ]
     },
     "metadata": {},
     "output_type": "display_data"
    }
   ],
   "source": [
    "portfolio[\"Total Position\"].plot(kind=\"line\",figsize=(12,3))\n",
    "plt.title(\"Portfolio's Value\")"
   ]
  },
  {
   "cell_type": "code",
   "execution_count": 63,
   "metadata": {},
   "outputs": [
    {
     "data": {
      "text/plain": [
       "<matplotlib.axes._subplots.AxesSubplot at 0x7f668abe3898>"
      ]
     },
     "execution_count": 63,
     "metadata": {},
     "output_type": "execute_result"
    },
    {
     "data": {
      "image/png": "[encoded data removed]",
      "text/plain": [
       "<matplotlib.figure.Figure at 0x7f668ad8c160>"
      ]
     },
     "metadata": {},
     "output_type": "display_data"
    }
   ],
   "source": [
    "portfolio.drop(\"Total Position\",axis=1).plot(kind=\"line\",figsize=(12,3))"
   ]
  },
  {
   "cell_type": "markdown",
   "metadata": {},
   "source": [
    "# Portfolio Statistics\n",
    "### Daily Returns"
   ]
  },
  {
   "cell_type": "code",
   "execution_count": 64,
   "metadata": {},
   "outputs": [],
   "source": [
    "portfolio['Daily Return'] = portfolio['Total Position'].pct_change(1)"
   ]
  },
  {
   "cell_type": "markdown",
   "metadata": {},
   "source": [
    "### Cumulative Return"
   ]
  },
  {
   "cell_type": "code",
   "execution_count": 65,
   "metadata": {},
   "outputs": [
    {
     "name": "stdout",
     "output_type": "stream",
     "text": [
      "Our return 2.787439086999255 was percent!\n"
     ]
    }
   ],
   "source": [
    "cum_ret = 100 * (portfolio['Total Position'][-1]/portfolio['Total Position'][0] -1 )\n",
    "print('Our return {} was percent!'.format(cum_ret))"
   ]
  },
  {
   "cell_type": "markdown",
   "metadata": {},
   "source": [
    "### Avg Daily Return"
   ]
  },
  {
   "cell_type": "code",
   "execution_count": 68,
   "metadata": {},
   "outputs": [
    {
     "data": {
      "text/plain": [
       "0.0006146743236785044"
      ]
     },
     "execution_count": 68,
     "metadata": {},
     "output_type": "execute_result"
    }
   ],
   "source": [
    "portfolio['Daily Return'].mean()"
   ]
  },
  {
   "cell_type": "markdown",
   "metadata": {},
   "source": [
    "### Std Daily Return"
   ]
  },
  {
   "cell_type": "code",
   "execution_count": 70,
   "metadata": {},
   "outputs": [
    {
     "data": {
      "text/plain": [
       "0.016865594263025706"
      ]
     },
     "execution_count": 70,
     "metadata": {},
     "output_type": "execute_result"
    }
   ],
   "source": [
    "portfolio['Daily Return'].std()"
   ]
  },
  {
   "cell_type": "code",
   "execution_count": null,
   "metadata": {},
   "outputs": [],
   "source": []
  },
  {
   "cell_type": "code",
   "execution_count": null,
   "metadata": {},
   "outputs": [],
   "source": []
  }
 ],
 "metadata": {
  "kernelspec": {
   "display_name": "Python 3",
   "language": "python",
   "name": "python3"
  },
  "language_info": {
   "codemirror_mode": {
    "name": "ipython",
    "version": 3
   },
   "file_extension": ".py",
   "mimetype": "text/x-python",
   "name": "python",
   "nbconvert_exporter": "python",
   "pygments_lexer": "ipython3",
   "version": "3.6.4"
  }
 },
 "nbformat": 4,
 "nbformat_minor": 2
}
