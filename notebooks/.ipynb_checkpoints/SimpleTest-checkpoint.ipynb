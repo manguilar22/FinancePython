{
 "cells": [
  {
   "cell_type": "markdown",
   "metadata": {},
   "source": [
    "\n",
    "# Stock Class Version 0.1.0  \n",
    "* When called upon the Stock class constructor date is being outputted.\n",
    "* Purpose of the stock class is to fetch and orginize Stock data.  "
   ]
  },
  {
   "cell_type": "code",
   "execution_count": 2,
   "metadata": {},
   "outputs": [],
   "source": [
    "from OOP.Stock import Stock"
   ]
  },
  {
   "cell_type": "code",
   "execution_count": 3,
   "metadata": {},
   "outputs": [
    {
     "name": "stdout",
     "output_type": "stream",
     "text": [
      "Stock Class Accessed :\t 2019-05-23 15:25:15.942016\n"
     ]
    }
   ],
   "source": [
    "s = Stock()"
   ]
  },
  {
   "cell_type": "markdown",
   "metadata": {},
   "source": [
    "## Quandl Codes \n",
    "* Facebook\n",
    "\n",
    "```\n",
    "\"WIKI/FB\"\n",
    "```\n",
    "\n",
    "* Amazon\n",
    "\n",
    "```\n",
    "\"WIKI/AMZN\"\n",
    "```\n",
    "\n",
    "* Apple\n",
    "\n",
    "```\n",
    "\"WIKI/APPL\"\n",
    "```"
   ]
  },
  {
   "cell_type": "code",
   "execution_count": 4,
   "metadata": {
    "scrolled": true
   },
   "outputs": [],
   "source": [
    "stock = s.quandl(\"WIKI/FB\",start_date=\"2018-01-01\")"
   ]
  },
  {
   "cell_type": "markdown",
   "metadata": {},
   "source": [
    "### Stock Dataset"
   ]
  },
  {
   "cell_type": "code",
   "execution_count": 5,
   "metadata": {},
   "outputs": [
    {
     "data": {
      "text/html": [
       "<div>\n",
       "<table border=\"1\" class=\"dataframe\">\n",
       "  <thead>\n",
       "    <tr style=\"text-align: right;\">\n",
       "      <th></th>\n",
       "      <th>Open</th>\n",
       "      <th>Close</th>\n",
       "      <th>High</th>\n",
       "      <th>Low</th>\n",
       "      <th>Volume</th>\n",
       "      <th>Adj. Open</th>\n",
       "      <th>Adj. Close</th>\n",
       "      <th>Adj. High</th>\n",
       "      <th>Adj. Low</th>\n",
       "      <th>Adj. Volume</th>\n",
       "    </tr>\n",
       "    <tr>\n",
       "      <th>Date</th>\n",
       "      <th></th>\n",
       "      <th></th>\n",
       "      <th></th>\n",
       "      <th></th>\n",
       "      <th></th>\n",
       "      <th></th>\n",
       "      <th></th>\n",
       "      <th></th>\n",
       "      <th></th>\n",
       "      <th></th>\n",
       "    </tr>\n",
       "  </thead>\n",
       "  <tbody>\n",
       "    <tr>\n",
       "      <th>2018-01-02</th>\n",
       "      <td>170.16</td>\n",
       "      <td>172.26</td>\n",
       "      <td>172.30</td>\n",
       "      <td>169.26</td>\n",
       "      <td>25048048.0</td>\n",
       "      <td>170.16</td>\n",
       "      <td>172.26</td>\n",
       "      <td>172.30</td>\n",
       "      <td>169.26</td>\n",
       "      <td>25048048.0</td>\n",
       "    </tr>\n",
       "    <tr>\n",
       "      <th>2018-01-03</th>\n",
       "      <td>172.53</td>\n",
       "      <td>172.23</td>\n",
       "      <td>174.55</td>\n",
       "      <td>171.96</td>\n",
       "      <td>28819653.0</td>\n",
       "      <td>172.53</td>\n",
       "      <td>172.23</td>\n",
       "      <td>174.55</td>\n",
       "      <td>171.96</td>\n",
       "      <td>28819653.0</td>\n",
       "    </tr>\n",
       "    <tr>\n",
       "      <th>2018-01-04</th>\n",
       "      <td>172.54</td>\n",
       "      <td>173.03</td>\n",
       "      <td>173.47</td>\n",
       "      <td>172.08</td>\n",
       "      <td>22211345.0</td>\n",
       "      <td>172.54</td>\n",
       "      <td>173.03</td>\n",
       "      <td>173.47</td>\n",
       "      <td>172.08</td>\n",
       "      <td>22211345.0</td>\n",
       "    </tr>\n",
       "  </tbody>\n",
       "</table>\n",
       "</div>"
      ],
      "text/plain": [
       "              Open   Close    High     Low      Volume  Adj. Open  Adj. Close  \\\n",
       "Date                                                                            \n",
       "2018-01-02  170.16  172.26  172.30  169.26  25048048.0     170.16      172.26   \n",
       "2018-01-03  172.53  172.23  174.55  171.96  28819653.0     172.53      172.23   \n",
       "2018-01-04  172.54  173.03  173.47  172.08  22211345.0     172.54      173.03   \n",
       "\n",
       "            Adj. High  Adj. Low  Adj. Volume  \n",
       "Date                                          \n",
       "2018-01-02     172.30    169.26   25048048.0  \n",
       "2018-01-03     174.55    171.96   28819653.0  \n",
       "2018-01-04     173.47    172.08   22211345.0  "
      ]
     },
     "execution_count": 5,
     "metadata": {},
     "output_type": "execute_result"
    }
   ],
   "source": [
    "stock.head(3)"
   ]
  },
  {
   "cell_type": "markdown",
   "metadata": {},
   "source": [
    "### Saving Stock as Files"
   ]
  },
  {
   "cell_type": "code",
   "execution_count": 6,
   "metadata": {},
   "outputs": [
    {
     "name": "stdout",
     "output_type": "stream",
     "text": [
      "Stock has been saved to:\t./exports/2019-05-2315:25:17.470399apple.txt\n"
     ]
    }
   ],
   "source": [
    "s.to_text(stock, \"facebook\")"
   ]
  },
  {
   "cell_type": "code",
   "execution_count": 7,
   "metadata": {},
   "outputs": [
    {
     "name": "stdout",
     "output_type": "stream",
     "text": [
      "Saving CSV file in:\t../stocks/datasets/2019-05-2315:25:17.702736apple.csv\n"
     ]
    }
   ],
   "source": [
    "s.save(fileName=\"facebook\")"
   ]
  },
  {
   "cell_type": "code",
   "execution_count": 8,
   "metadata": {},
   "outputs": [],
   "source": []
  },
  {
   "cell_type": "code",
   "execution_count": 11,
   "metadata": {},
   "outputs": [],
   "source": []
  },
  {
   "cell_type": "code",
   "execution_count": null,
   "metadata": {},
   "outputs": [],
   "source": []
  },
  {
   "cell_type": "code",
   "execution_count": null,
   "metadata": {},
   "outputs": [],
   "source": []
  },
  {
   "cell_type": "code",
   "execution_count": null,
   "metadata": {},
   "outputs": [],
   "source": []
  }
 ],
 "metadata": {
  "kernelspec": {
   "display_name": "Python 3",
   "language": "python",
   "name": "python3"
  },
  "language_info": {
   "codemirror_mode": {
    "name": "ipython",
    "version": 3
   },
   "file_extension": ".py",
   "mimetype": "text/x-python",
   "name": "python",
   "nbconvert_exporter": "python",
   "pygments_lexer": "ipython3",
   "version": "3.6.4"
  }
 },
 "nbformat": 4,
 "nbformat_minor": 2
}
