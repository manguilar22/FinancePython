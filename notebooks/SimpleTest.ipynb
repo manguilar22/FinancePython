{
 "cells": [
  {
   "cell_type": "markdown",
   "metadata": {},
   "source": [
    "\n",
    "# Stock Class Version 0.0.0  \n",
    "* When called upon the Stock class constructor date is being outputted.\n",
    "* Purpose of the stock class is to fetch and orginize Stock data.  "
   ]
  },
  {
   "cell_type": "code",
   "execution_count": 1,
   "metadata": {},
   "outputs": [],
   "source": [
    "from OOP.Stock import Stock"
   ]
  },
  {
   "cell_type": "code",
   "execution_count": 2,
   "metadata": {},
   "outputs": [
    {
     "name": "stdout",
     "output_type": "stream",
     "text": [
      "Stock Class Accessed :\t 2019-01-30 13:55:04.076170\n"
     ]
    }
   ],
   "source": [
    "s = Stock()"
   ]
  },
  {
   "cell_type": "code",
   "execution_count": 3,
   "metadata": {
    "scrolled": true
   },
   "outputs": [],
   "source": [
    "stock = s.quandl(\"WIKI/AMZN\",start_date=\"2018-01-01\")"
   ]
  },
  {
   "cell_type": "code",
   "execution_count": 4,
   "metadata": {},
   "outputs": [
    {
     "data": {
      "text/html": [
       "<div>\n",
       "<table border=\"1\" class=\"dataframe\">\n",
       "  <thead>\n",
       "    <tr style=\"text-align: right;\">\n",
       "      <th></th>\n",
       "      <th>Open</th>\n",
       "      <th>Close</th>\n",
       "      <th>High</th>\n",
       "      <th>Low</th>\n",
       "      <th>Volume</th>\n",
       "      <th>Adj. Open</th>\n",
       "      <th>Adj. Close</th>\n",
       "      <th>Adj. High</th>\n",
       "      <th>Adj. Low</th>\n",
       "      <th>Adj. Volume</th>\n",
       "      <th>Date</th>\n",
       "    </tr>\n",
       "    <tr>\n",
       "      <th>Date</th>\n",
       "      <th></th>\n",
       "      <th></th>\n",
       "      <th></th>\n",
       "      <th></th>\n",
       "      <th></th>\n",
       "      <th></th>\n",
       "      <th></th>\n",
       "      <th></th>\n",
       "      <th></th>\n",
       "      <th></th>\n",
       "      <th></th>\n",
       "    </tr>\n",
       "  </thead>\n",
       "  <tbody>\n",
       "    <tr>\n",
       "      <th>2018-01-02</th>\n",
       "      <td>1172.0</td>\n",
       "      <td>1189.01</td>\n",
       "      <td>1190.00</td>\n",
       "      <td>1170.51</td>\n",
       "      <td>2587899.0</td>\n",
       "      <td>1172.0</td>\n",
       "      <td>1189.01</td>\n",
       "      <td>1190.00</td>\n",
       "      <td>1170.51</td>\n",
       "      <td>2587899.0</td>\n",
       "      <td>2018-01-02</td>\n",
       "    </tr>\n",
       "    <tr>\n",
       "      <th>2018-01-03</th>\n",
       "      <td>1188.3</td>\n",
       "      <td>1204.20</td>\n",
       "      <td>1205.49</td>\n",
       "      <td>1188.30</td>\n",
       "      <td>3044664.0</td>\n",
       "      <td>1188.3</td>\n",
       "      <td>1204.20</td>\n",
       "      <td>1205.49</td>\n",
       "      <td>1188.30</td>\n",
       "      <td>3044664.0</td>\n",
       "      <td>2018-01-03</td>\n",
       "    </tr>\n",
       "    <tr>\n",
       "      <th>2018-01-04</th>\n",
       "      <td>1205.0</td>\n",
       "      <td>1209.59</td>\n",
       "      <td>1215.87</td>\n",
       "      <td>1204.66</td>\n",
       "      <td>3000366.0</td>\n",
       "      <td>1205.0</td>\n",
       "      <td>1209.59</td>\n",
       "      <td>1215.87</td>\n",
       "      <td>1204.66</td>\n",
       "      <td>3000366.0</td>\n",
       "      <td>2018-01-04</td>\n",
       "    </tr>\n",
       "  </tbody>\n",
       "</table>\n",
       "</div>"
      ],
      "text/plain": [
       "              Open    Close     High      Low     Volume  Adj. Open  \\\n",
       "Date                                                                  \n",
       "2018-01-02  1172.0  1189.01  1190.00  1170.51  2587899.0     1172.0   \n",
       "2018-01-03  1188.3  1204.20  1205.49  1188.30  3044664.0     1188.3   \n",
       "2018-01-04  1205.0  1209.59  1215.87  1204.66  3000366.0     1205.0   \n",
       "\n",
       "            Adj. Close  Adj. High  Adj. Low  Adj. Volume       Date  \n",
       "Date                                                                 \n",
       "2018-01-02     1189.01    1190.00   1170.51    2587899.0 2018-01-02  \n",
       "2018-01-03     1204.20    1205.49   1188.30    3044664.0 2018-01-03  \n",
       "2018-01-04     1209.59    1215.87   1204.66    3000366.0 2018-01-04  "
      ]
     },
     "execution_count": 4,
     "metadata": {},
     "output_type": "execute_result"
    }
   ],
   "source": [
    "stock.head(3)"
   ]
  },
  {
   "cell_type": "code",
   "execution_count": 5,
   "metadata": {},
   "outputs": [
    {
     "name": "stdout",
     "output_type": "stream",
     "text": [
      "Stock has been saved to:\t./exports/2019-01-3013:55:23.859155amazon.txt.txt\n"
     ]
    }
   ],
   "source": [
    "w = s.to_text(stock, \"amazon\")"
   ]
  },
  {
   "cell_type": "code",
   "execution_count": 6,
   "metadata": {},
   "outputs": [],
   "source": [
    "stock.to_csv(\"../stocks/amazon.csv\",index=False)"
   ]
  },
  {
   "cell_type": "code",
   "execution_count": null,
   "metadata": {},
   "outputs": [],
   "source": []
  }
 ],
 "metadata": {
  "kernelspec": {
   "display_name": "Python 3",
   "language": "python",
   "name": "python3"
  },
  "language_info": {
   "codemirror_mode": {
    "name": "ipython",
    "version": 3
   },
   "file_extension": ".py",
   "mimetype": "text/x-python",
   "name": "python",
   "nbconvert_exporter": "python",
   "pygments_lexer": "ipython3",
   "version": "3.6.4"
  }
 },
 "nbformat": 4,
 "nbformat_minor": 2
}
