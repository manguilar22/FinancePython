{
 "cells": [
  {
   "cell_type": "code",
   "execution_count": 60,
   "metadata": {},
   "outputs": [],
   "source": [
    "import quandl as q\n",
    "import pandas as pd \n",
    "from datetime import datetime as d"
   ]
  },
  {
   "cell_type": "code",
   "execution_count": 61,
   "metadata": {},
   "outputs": [
    {
     "name": "stdout",
     "output_type": "stream",
     "text": [
      "2018-07-09 00:52:43.002079\n"
     ]
    }
   ],
   "source": [
    "present = str(d.now())\n",
    "print(present)"
   ]
  },
  {
   "cell_type": "code",
   "execution_count": 62,
   "metadata": {},
   "outputs": [],
   "source": [
    "facebook = q.get(\"WIKI/FB\",start_date=\"2018-01-01\",end_date=d.now())\n",
    "google = q.get(\"WIKI/GOOG\",start_date=\"2018-01-01\",end_date=d.now())\n",
    "nasdaq = q.get(\"NASDAQOMX/COMP-NASDAQ-Composite-COMP\",start_date=\"2018-01-01\",end_date=d.now())"
   ]
  },
  {
   "cell_type": "code",
   "execution_count": 63,
   "metadata": {},
   "outputs": [],
   "source": [
    "misc = [\"Ex-Dividend\", \"Split Ratio\"]\n",
    "facebook.drop(labels=misc,axis=1,inplace=True)\n",
    "google.drop(labels=misc,axis=1,inplace=True)"
   ]
  },
  {
   "cell_type": "code",
   "execution_count": 64,
   "metadata": {},
   "outputs": [],
   "source": [
    "facebook.to_csv(\"./stocks/Facebook.csv\",index_label=False,encoding=\"UTF-8\")\n",
    "google.to_csv(\"./stocks/Google.csv\",index_label=False,encoding=\"UTF-8\")\n",
    "nasdaq.to_csv(\"./stocks/Nasdaq.csv\",index_label=False,encoding=\"UTF-8\")"
   ]
  },
  {
   "cell_type": "code",
   "execution_count": 65,
   "metadata": {},
   "outputs": [],
   "source": [
    "f = lambda O,H,L,C,V,AO,AH,AL,AC,AV: str(\"{Open},{High},{Low},{Close},{Volume},{AdjOpen},\\\n",
    "                                         {AdjHigh},{AdjLow},{AdjClose},{AdjVolume}\\n\").format(Open=O,\n",
    "                                                                                             High=H,\n",
    "                                                                                             Low=L,\n",
    "                                                                                             Close=C,\n",
    "                                                                                             Volume=V,\n",
    "                                                                                             AdjOpen=AO,\n",
    "                                                                                             AdjHigh=AH,\n",
    "                                                                                             AdjLow=AL,\n",
    "                                                                                             AdjClose=AC,\n",
    "                                                                                             AdjVolume=AV)"
   ]
  },
  {
   "cell_type": "code",
   "execution_count": 66,
   "metadata": {},
   "outputs": [],
   "source": [
    "g = lambda I,H,L,T,D: str(\"{IndexValue},{High},{Low},{TotalMarketVal},{DividMarketVal}\\n\").format(IndexValue=I,\n",
    "                                                                                                 High=H,\n",
    "                                                                                                 Low=L,\n",
    "                                                                                                 TotalMarket=T,\n",
    "                                                                                                 DividMarketVal=D)"
   ]
  },
  {
   "cell_type": "code",
   "execution_count": 67,
   "metadata": {},
   "outputs": [],
   "source": [
    "facebook_text=\"\"\n",
    "google_text=\"\"\n",
    "nasdaq_text=\"\""
   ]
  },
  {
   "cell_type": "code",
   "execution_count": 68,
   "metadata": {},
   "outputs": [],
   "source": [
    "for i in range(len(facebook)):\n",
    "    facebook_text+=f(facebook[\"Open\"],facebook[\"High\"],facebook[\"Low\"],\n",
    "                    facebook[\"Close\"],facebook[\"Volume\"],facebook[\"Adj. Open\"],\n",
    "                     facebook[\"Adj. High\"],facebook[\"Adj. Low\"],facebook[\"Adj. Close\"],\n",
    "                     facebook[\"Adj. Volume\"])\n",
    "    google_text+=f(google[\"Open\"],google[\"High\"],google[\"Low\"],\n",
    "                    google[\"Close\"],google[\"Volume\"],google[\"Adj. Open\"],\n",
    "                     google[\"Adj. High\"],google[\"Adj. Low\"],google[\"Adj. Close\"],\n",
    "                     google[\"Adj. Volume\"])"
   ]
  },
  {
   "cell_type": "code",
   "execution_count": 69,
   "metadata": {},
   "outputs": [],
   "source": [
    "with open(\"./stocks/Facebook.txt\",\"w\") as f:\n",
    "    f.write(present)\n",
    "    f.write(facebook_text)\n",
    "    f.close()\n",
    "with open(\"./stocks/Google.txt\",\"w\") as f:    \n",
    "    f.write(present)\n",
    "    f.write(google_text)\n",
    "    f.close()"
   ]
  },
  {
   "cell_type": "code",
   "execution_count": null,
   "metadata": {},
   "outputs": [],
   "source": []
  },
  {
   "cell_type": "code",
   "execution_count": null,
   "metadata": {},
   "outputs": [],
   "source": []
  }
 ],
 "metadata": {
  "kernelspec": {
   "display_name": "Python 3",
   "language": "python",
   "name": "python3"
  },
  "language_info": {
   "codemirror_mode": {
    "name": "ipython",
    "version": 3
   },
   "file_extension": ".py",
   "mimetype": "text/x-python",
   "name": "python",
   "nbconvert_exporter": "python",
   "pygments_lexer": "ipython3",
   "version": "3.6.4"
  }
 },
 "nbformat": 4,
 "nbformat_minor": 2
}
