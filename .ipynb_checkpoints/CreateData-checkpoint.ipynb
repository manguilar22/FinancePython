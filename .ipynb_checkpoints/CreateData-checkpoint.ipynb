{
 "cells": [
  {
   "cell_type": "code",
   "execution_count": 23,
   "metadata": {},
   "outputs": [],
   "source": [
    "import quandl as q\n",
    "import pandas as pd \n",
    "from datetime import datetime as d"
   ]
  },
  {
   "cell_type": "code",
   "execution_count": 24,
   "metadata": {},
   "outputs": [
    {
     "name": "stdout",
     "output_type": "stream",
     "text": [
      "2018-07-09 01:13:37.348551\n",
      "\n"
     ]
    }
   ],
   "source": [
    "present = str(d.now())+\"\\n\"\n",
    "print(present)"
   ]
  },
  {
   "cell_type": "code",
   "execution_count": 25,
   "metadata": {},
   "outputs": [],
   "source": [
    "facebook = q.get(\"WIKI/FB\",start_date=\"2018-01-01\",end_date=d.now())\n",
    "google = q.get(\"WIKI/GOOG\",start_date=\"2018-01-01\",end_date=d.now())\n",
    "nasdaq = q.get(\"NASDAQOMX/COMP-NASDAQ-Composite-COMP\",start_date=\"2018-01-01\",end_date=d.now())"
   ]
  },
  {
   "cell_type": "code",
   "execution_count": 26,
   "metadata": {},
   "outputs": [],
   "source": [
    "misc = [\"Ex-Dividend\", \"Split Ratio\"]\n",
    "facebook.drop(labels=misc,axis=1,inplace=True)\n",
    "google.drop(labels=misc,axis=1,inplace=True)"
   ]
  },
  {
   "cell_type": "code",
   "execution_count": 27,
   "metadata": {},
   "outputs": [],
   "source": [
    "facebook.to_csv(\"./stocks/Facebook.csv\",index_label=False,encoding=\"UTF-8\")\n",
    "google.to_csv(\"./stocks/Google.csv\",index_label=False,encoding=\"UTF-8\")\n",
    "nasdaq.to_csv(\"./stocks/Nasdaq.csv\",index_label=False,encoding=\"UTF-8\")"
   ]
  },
  {
   "cell_type": "code",
   "execution_count": 28,
   "metadata": {},
   "outputs": [],
   "source": [
    "f = lambda O,H,L,C,V,AO,AH,AL,AC,AV: str(\"{Open},{High},{Low},{Close},{Volume},{AdjOpen},\\\n",
    "                                         {AdjHigh},{AdjLow},{AdjClose},{AdjVolume}\\n\").format(Open=O,\n",
    "                                                                                             High=H,\n",
    "                                                                                             Low=L,\n",
    "                                                                                             Close=C,\n",
    "                                                                                             Volume=V,\n",
    "                                                                                             AdjOpen=AO,\n",
    "                                                                                             AdjHigh=AH,\n",
    "                                                                                             AdjLow=AL,\n",
    "                                                                                             AdjClose=AC,\n",
    "                                                                                             AdjVolume=AV)"
   ]
  },
  {
   "cell_type": "code",
   "execution_count": 29,
   "metadata": {},
   "outputs": [],
   "source": [
    "g = lambda I,H,L,T,D: str(\"{IndexValue},{High},{Low},{TotalMarketVal},{DividMarketVal}\\n\").format(IndexValue=I,\n",
    "                                                                                                 High=H,\n",
    "                                                                                                 Low=L,\n",
    "                                                                                                 TotalMarket=T,\n",
    "                                                                                                 DividMarketVal=D)"
   ]
  },
  {
   "cell_type": "code",
   "execution_count": 43,
   "metadata": {},
   "outputs": [
    {
     "data": {
      "text/html": [
       "<div>\n",
       "<style scoped>\n",
       "    .dataframe tbody tr th:only-of-type {\n",
       "        vertical-align: middle;\n",
       "    }\n",
       "\n",
       "    .dataframe tbody tr th {\n",
       "        vertical-align: top;\n",
       "    }\n",
       "\n",
       "    .dataframe thead th {\n",
       "        text-align: right;\n",
       "    }\n",
       "</style>\n",
       "<table border=\"1\" class=\"dataframe\">\n",
       "  <thead>\n",
       "    <tr style=\"text-align: right;\">\n",
       "      <th></th>\n",
       "      <th>Index Value</th>\n",
       "      <th>High</th>\n",
       "      <th>Low</th>\n",
       "      <th>Total Market Value</th>\n",
       "      <th>Dividend Market Value</th>\n",
       "    </tr>\n",
       "    <tr>\n",
       "      <th>Trade Date</th>\n",
       "      <th></th>\n",
       "      <th></th>\n",
       "      <th></th>\n",
       "      <th></th>\n",
       "      <th></th>\n",
       "    </tr>\n",
       "  </thead>\n",
       "  <tbody>\n",
       "    <tr>\n",
       "      <th>2018-01-02</th>\n",
       "      <td>7006.90</td>\n",
       "      <td>7006.91</td>\n",
       "      <td>6924.08</td>\n",
       "      <td>1.067066e+13</td>\n",
       "      <td>7.373659e+08</td>\n",
       "    </tr>\n",
       "    <tr>\n",
       "      <th>2018-01-03</th>\n",
       "      <td>7065.53</td>\n",
       "      <td>7069.15</td>\n",
       "      <td>7016.70</td>\n",
       "      <td>1.078842e+13</td>\n",
       "      <td>3.703689e+06</td>\n",
       "    </tr>\n",
       "    <tr>\n",
       "      <th>2018-01-04</th>\n",
       "      <td>7077.91</td>\n",
       "      <td>7098.05</td>\n",
       "      <td>7072.38</td>\n",
       "      <td>1.080738e+13</td>\n",
       "      <td>1.565174e+09</td>\n",
       "    </tr>\n",
       "    <tr>\n",
       "      <th>2018-01-05</th>\n",
       "      <td>7136.56</td>\n",
       "      <td>7137.04</td>\n",
       "      <td>7097.08</td>\n",
       "      <td>1.089695e+13</td>\n",
       "      <td>5.285305e+07</td>\n",
       "    </tr>\n",
       "    <tr>\n",
       "      <th>2018-01-08</th>\n",
       "      <td>7157.39</td>\n",
       "      <td>7161.35</td>\n",
       "      <td>7124.09</td>\n",
       "      <td>1.092877e+13</td>\n",
       "      <td>8.201618e+06</td>\n",
       "    </tr>\n",
       "  </tbody>\n",
       "</table>\n",
       "</div>"
      ],
      "text/plain": [
       "            Index Value     High      Low  Total Market Value  \\\n",
       "Trade Date                                                      \n",
       "2018-01-02      7006.90  7006.91  6924.08        1.067066e+13   \n",
       "2018-01-03      7065.53  7069.15  7016.70        1.078842e+13   \n",
       "2018-01-04      7077.91  7098.05  7072.38        1.080738e+13   \n",
       "2018-01-05      7136.56  7137.04  7097.08        1.089695e+13   \n",
       "2018-01-08      7157.39  7161.35  7124.09        1.092877e+13   \n",
       "\n",
       "            Dividend Market Value  \n",
       "Trade Date                         \n",
       "2018-01-02           7.373659e+08  \n",
       "2018-01-03           3.703689e+06  \n",
       "2018-01-04           1.565174e+09  \n",
       "2018-01-05           5.285305e+07  \n",
       "2018-01-08           8.201618e+06  "
      ]
     },
     "execution_count": 43,
     "metadata": {},
     "output_type": "execute_result"
    }
   ],
   "source": [
    "facebook_text=\"\"\n",
    "google_text=\"\"\n",
    "nasdaq_text=\"\"\n",
    "nasdaq.head()"
   ]
  },
  {
   "cell_type": "code",
   "execution_count": 45,
   "metadata": {},
   "outputs": [
    {
     "ename": "KeyError",
     "evalue": "'TotalMarketVal'",
     "output_type": "error",
     "traceback": [
      "\u001b[0;31m---------------------------------------------------------------------------\u001b[0m",
      "\u001b[0;31mKeyError\u001b[0m                                  Traceback (most recent call last)",
      "\u001b[0;32m<ipython-input-45-c5ec7ce8f89e>\u001b[0m in \u001b[0;36m<module>\u001b[0;34m()\u001b[0m\n\u001b[1;32m      1\u001b[0m \u001b[0;32mfor\u001b[0m \u001b[0mj\u001b[0m \u001b[0;32min\u001b[0m \u001b[0mrange\u001b[0m\u001b[0;34m(\u001b[0m\u001b[0mlen\u001b[0m\u001b[0;34m(\u001b[0m\u001b[0mnasdaq\u001b[0m\u001b[0;34m)\u001b[0m\u001b[0;34m)\u001b[0m\u001b[0;34m:\u001b[0m\u001b[0;34m\u001b[0m\u001b[0m\n\u001b[1;32m      2\u001b[0m     nasdaq_text+=g(nasdaq[\"Index Value\"][i],nasdaq[\"High\"][i],nasdaq[\"Low\"][i],\n\u001b[0;32m----> 3\u001b[0;31m                   nasdaq[\"Total Market Value\"][i],nasdaq[\"Dividend Market Value\"])\n\u001b[0m\u001b[1;32m      4\u001b[0m \u001b[0;32mfor\u001b[0m \u001b[0mi\u001b[0m \u001b[0;32min\u001b[0m \u001b[0mrange\u001b[0m\u001b[0;34m(\u001b[0m\u001b[0mlen\u001b[0m\u001b[0;34m(\u001b[0m\u001b[0mfacebook\u001b[0m\u001b[0;34m)\u001b[0m\u001b[0;34m)\u001b[0m\u001b[0;34m:\u001b[0m\u001b[0;34m\u001b[0m\u001b[0m\n\u001b[1;32m      5\u001b[0m     facebook_text+=f(facebook[\"Open\"][i],facebook[\"High\"][i],facebook[\"Low\"][i],\n",
      "\u001b[0;32m<ipython-input-29-80d209cd78d1>\u001b[0m in \u001b[0;36m<lambda>\u001b[0;34m(I, H, L, T, D)\u001b[0m\n\u001b[1;32m      3\u001b[0m                                                                                                  \u001b[0mLow\u001b[0m\u001b[0;34m=\u001b[0m\u001b[0mL\u001b[0m\u001b[0;34m,\u001b[0m\u001b[0;34m\u001b[0m\u001b[0m\n\u001b[1;32m      4\u001b[0m                                                                                                  \u001b[0mTotalMarket\u001b[0m\u001b[0;34m=\u001b[0m\u001b[0mT\u001b[0m\u001b[0;34m,\u001b[0m\u001b[0;34m\u001b[0m\u001b[0m\n\u001b[0;32m----> 5\u001b[0;31m                                                                                                  DividMarketVal=D)\n\u001b[0m",
      "\u001b[0;31mKeyError\u001b[0m: 'TotalMarketVal'"
     ]
    }
   ],
   "source": [
    "for i in range(len(facebook)):\n",
    "    facebook_text+=f(facebook[\"Open\"][i],facebook[\"High\"][i],facebook[\"Low\"][i],\n",
    "                    facebook[\"Close\"][i],facebook[\"Volume\"][i],facebook[\"Adj. Open\"][i],\n",
    "                     facebook[\"Adj. High\"][i],facebook[\"Adj. Low\"][i],facebook[\"Adj. Close\"][i],\n",
    "                     facebook[\"Adj. Volume\"][i])\n",
    "    google_text+=f(google[\"Open\"][i],google[\"High\"][i],google[\"Low\"][i],\n",
    "                    google[\"Close\"][i],google[\"Volume\"][i],google[\"Adj. Open\"][i],\n",
    "                     google[\"Adj. High\"][i],google[\"Adj. Low\"][i],google[\"Adj. Close\"][i],\n",
    "                     google[\"Adj. Volume\"][i])"
   ]
  },
  {
   "cell_type": "code",
   "execution_count": 41,
   "metadata": {},
   "outputs": [],
   "source": [
    "path = str(d.now()).strip().replace(\" \",\"\")"
   ]
  },
  {
   "cell_type": "code",
   "execution_count": 32,
   "metadata": {},
   "outputs": [],
   "source": [
    "with open(\"./stocks/\",path,\"Facebook.txt\",\"w\") as f:\n",
    "    f.write(present)\n",
    "    f.write(facebook_text)\n",
    "    f.close()\n",
    "with open(\"./stocks/\",path,\"Google.txt\",\"w\") as f:    \n",
    "    f.write(present)\n",
    "    f.write(google_text)\n",
    "    f.close()"
   ]
  },
  {
   "cell_type": "code",
   "execution_count": null,
   "metadata": {},
   "outputs": [],
   "source": []
  },
  {
   "cell_type": "code",
   "execution_count": null,
   "metadata": {},
   "outputs": [],
   "source": []
  }
 ],
 "metadata": {
  "kernelspec": {
   "display_name": "Python 3",
   "language": "python",
   "name": "python3"
  },
  "language_info": {
   "codemirror_mode": {
    "name": "ipython",
    "version": 3
   },
   "file_extension": ".py",
   "mimetype": "text/x-python",
   "name": "python",
   "nbconvert_exporter": "python",
   "pygments_lexer": "ipython3",
   "version": "3.6.4"
  }
 },
 "nbformat": 4,
 "nbformat_minor": 2
}
